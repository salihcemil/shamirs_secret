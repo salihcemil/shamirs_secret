{
 "cells": [
  {
   "cell_type": "code",
   "execution_count": 1,
   "metadata": {},
   "outputs": [
    {
     "data": {
      "text/plain": [
       "{'required_shares': 2,\n",
       " 'prime_mod': 'AQAAAAAAAAAAAAAAAAAAAAAAAAAAAAAAhQ==',\n",
       " 'shares': ['1-TviAb+u7bokg6sdFUqyNtcb6XcRGKhQB',\n",
       "  '2-nfEA39d2sp3ZbBtqO+X6/hTUSCMo4cKO',\n",
       "  '3-7OmBT8Mx9rKR7W+PJR9oRmKuMoILmXEb',\n",
       "  '4-O+IBv67tOsdKbsO0DljVjrCIHODuUR8j',\n",
       "  '5-itqCL5qoftwC8BfY95JC1v5iBz/RCM2w']}"
      ]
     },
     "execution_count": 1,
     "metadata": {},
     "output_type": "execute_result"
    }
   ],
   "source": [
    "from sslib import shamir\n",
    "required_shares = 2\n",
    "distributed_shares = 5\n",
    "shamir.to_base64(shamir.split_secret(\"this is my secret\".encode('ascii'), required_shares, distributed_shares))"
   ]
  },
  {
   "cell_type": "code",
   "execution_count": 2,
   "metadata": {},
   "outputs": [
    {
     "data": {
      "text/plain": [
       "'this is my secret'"
      ]
     },
     "execution_count": 2,
     "metadata": {},
     "output_type": "execute_result"
    }
   ],
   "source": [
    "from sslib import shamir\n",
    "data = {'required_shares': 2, 'prime_mod': 'AQAAAAAAAAAAAAAAAAAAAAAAAAAAAAAAhQ==', 'shares': ['2-lhg7XodrvzSw+5BPsYW+LkfaPxPmFVnA', '3-4SRZDcshiZTVRJ7nVY8NDq83JOsnZtPm']}\n",
    "shamir.recover_secret(shamir.from_base64(data)).decode('ascii')"
   ]
  },
  {
   "cell_type": "code",
   "execution_count": null,
   "metadata": {},
   "outputs": [],
   "source": []
  }
 ],
 "metadata": {
  "kernelspec": {
   "display_name": "Python 3",
   "language": "python",
   "name": "python3"
  },
  "language_info": {
   "codemirror_mode": {
    "name": "ipython",
    "version": 3
   },
   "file_extension": ".py",
   "mimetype": "text/x-python",
   "name": "python",
   "nbconvert_exporter": "python",
   "pygments_lexer": "ipython3",
   "version": "3.7.3"
  }
 },
 "nbformat": 4,
 "nbformat_minor": 2
}
